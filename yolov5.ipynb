{
 "cells": [
  {
   "cell_type": "markdown",
   "metadata": {
    "id": "t6MPjfT5NrKQ"
   },
   "source": [
    "<div align=\"center\">\n",
    "\n",
    "  <a href=\"https://ultralytics.com/yolov5\" target=\"_blank\">\n",
    "    <img width=\"1024\", src=\"https://raw.githubusercontent.com/ultralytics/assets/master/yolov5/v70/splash.png\"></a>\n",
    "\n",
    "\n",
    "<br>\n",
    "  <a href=\"https://bit.ly/yolov5-paperspace-notebook\"><img src=\"https://assets.paperspace.io/img/gradient-badge.svg\" alt=\"Run on Gradient\"></a>\n",
    "  <a href=\"https://colab.research.google.com/github/ultralytics/yolov5/blob/master/tutorial.ipynb\"><img src=\"https://colab.research.google.com/assets/colab-badge.svg\" alt=\"Open In Colab\"></a>\n",
    "  <a href=\"https://www.kaggle.com/ultralytics/yolov5\"><img src=\"https://kaggle.com/static/images/open-in-kaggle.svg\" alt=\"Open In Kaggle\"></a>\n",
    "<br>\n",
    "\n",
    "This <a href=\"https://github.com/ultralytics/yolov5\">YOLOv5</a> 🚀 notebook by <a href=\"https://ultralytics.com\">Ultralytics</a> presents simple train, validate and predict examples to help start your AI adventure.<br>See <a href=\"https://github.com/ultralytics/yolov5/issues/new/choose\">GitHub</a> for community support or <a href=\"https://ultralytics.com/contact\">contact us</a> for professional support.\n",
    "\n",
    "</div>"
   ]
  },
  {
   "cell_type": "markdown",
   "metadata": {
    "id": "7mGmQbAO5pQb"
   },
   "source": [
    "# Setup\n",
    "\n",
    "Clone GitHub [repository](https://github.com/ultralytics/yolov5), install [dependencies](https://github.com/ultralytics/yolov5/blob/master/requirements.txt) and check PyTorch and GPU."
   ]
  },
  {
   "cell_type": "code",
   "execution_count": 2,
   "metadata": {
    "ExecuteTime": {
     "end_time": "2024-04-25T13:02:39.400640Z",
     "start_time": "2024-04-25T13:02:39.335391Z"
    },
    "execution": {
     "iopub.execute_input": "2024-04-10T20:43:44.936520Z",
     "iopub.status.busy": "2024-04-10T20:43:44.935623Z",
     "iopub.status.idle": "2024-04-10T20:43:50.909065Z",
     "shell.execute_reply": "2024-04-10T20:43:50.908129Z",
     "shell.execute_reply.started": "2024-04-10T20:43:44.936480Z"
    },
    "id": "wbvMlHd_QwMG",
    "outputId": "f9f016ad-3dcf-4bd2-e1c3-d5b79efc6f32",
    "trusted": true
   },
   "outputs": [
    {
     "name": "stdout",
     "output_type": "stream",
     "text": [
      "c:\\Users\\claude\\Documents\\CMU\\Year 1\\Sem2\\Applied Computer Vision\\Projects\\Pedestrian-detection\\yolov5\n"
     ]
    },
    {
     "name": "stderr",
     "output_type": "stream",
     "text": [
      "c:\\Users\\robot\\anaconda3\\envs\\IDLS24\\Lib\\site-packages\\IPython\\core\\magics\\osm.py:417: UserWarning: using dhist requires you to install the `pickleshare` library.\n",
      "  self.shell.db['dhist'] = compress_dhist(dhist)[-100:]\n"
     ]
    }
   ],
   "source": [
    "#!git clone https://github.com/ultralytics/yolov5\n",
    "%cd yolov5"
   ]
  },
  {
   "cell_type": "code",
   "execution_count": null,
   "metadata": {},
   "outputs": [],
   "source": [
    "%pip install -qr requirements.txt\n"
   ]
  },
  {
   "cell_type": "code",
   "execution_count": 2,
   "metadata": {
    "ExecuteTime": {
     "end_time": "2024-04-25T13:03:26.234737Z",
     "start_time": "2024-04-25T13:03:26.192480Z"
    }
   },
   "outputs": [
    {
     "data": {
      "text/plain": [
       "'C:\\\\Users\\\\claude\\\\Documents\\\\CMU\\\\Year 1\\\\Sem2\\\\Applied Computer Vision\\\\Projects\\\\Pedestrian-detection\\\\yolov5'"
      ]
     },
     "execution_count": 2,
     "metadata": {},
     "output_type": "execute_result"
    }
   ],
   "source": [
    "%pwd"
   ]
  },
  {
   "cell_type": "code",
   "execution_count": 6,
   "metadata": {
    "ExecuteTime": {
     "end_time": "2024-04-25T13:13:39.851149Z",
     "start_time": "2024-04-25T13:13:26.468644Z"
    },
    "collapsed": false
   },
   "outputs": [
    {
     "name": "stdout",
     "output_type": "stream",
     "text": [
      "Found existing installation: TBB 0.2\n"
     ]
    },
    {
     "name": "stderr",
     "output_type": "stream",
     "text": [
      "ERROR: Cannot uninstall 'TBB'. It is a distutils installed project and thus we cannot accurately determine which files belong to it which would lead to only a partial uninstall.\n",
      "ERROR: Cannot uninstall 'TBB'. It is a distutils installed project and thus we cannot accurately determine which files belong to it which would lead to only a partial uninstall.\n"
     ]
    }
   ],
   "source": [
    "!pip uninstall TBB\n",
    "!{sys.executable} -m pip install ultralytics>=8.0.232"
   ]
  },
  {
   "cell_type": "code",
   "execution_count": 3,
   "metadata": {
    "ExecuteTime": {
     "end_time": "2024-04-25T13:03:43.253275Z",
     "start_time": "2024-04-25T13:03:40.698159Z"
    }
   },
   "outputs": [
    {
     "name": "stderr",
     "output_type": "stream",
     "text": [
      "YOLOv5  2024-4-17 Python-3.12.1 torch-2.2.1+cpu CPU\n"
     ]
    },
    {
     "name": "stdout",
     "output_type": "stream",
     "text": [
      "Setup complete  (12 CPUs, 15.6 GB RAM, 470.1/475.7 GB disk)\n"
     ]
    }
   ],
   "source": [
    "\n",
    "import torch\n",
    "import utils\n",
    "display = utils.notebook_init()"
   ]
  },
  {
   "cell_type": "code",
   "execution_count": 14,
   "metadata": {},
   "outputs": [
    {
     "name": "stdout",
     "output_type": "stream",
     "text": [
      "^C\n",
      "Requirement already satisfied: opencv-python in c:\\users\\robot\\anaconda3\\envs\\idls24\\lib\\site-packages (4.9.0.80)\n",
      "Requirement already satisfied: numpy>=1.21.2 in c:\\users\\robot\\anaconda3\\envs\\idls24\\lib\\site-packages (from opencv-python) (1.26.4)\n"
     ]
    }
   ],
   "source": [
    "!pip uninstall opencv-python\n",
    "!pip install opencv-python"
   ]
  },
  {
   "cell_type": "code",
   "execution_count": null,
   "metadata": {
    "execution": {
     "iopub.execute_input": "2024-04-10T20:04:09.942052Z",
     "iopub.status.busy": "2024-04-10T20:04:09.941728Z",
     "iopub.status.idle": "2024-04-10T20:04:36.244895Z",
     "shell.execute_reply": "2024-04-10T20:04:36.244086Z",
     "shell.execute_reply.started": "2024-04-10T20:04:09.942026Z"
    },
    "trusted": true
   },
   "outputs": [],
   "source": [
    "#!pip install roboflow\n",
    "\n",
    "from roboflow import Roboflow\n",
    "rf = Roboflow(api_key=\"KYEHyJIQazbfk8Fe3Biv\")\n",
    "project = rf.workspace(\"citypersons-conversion\").project(\"citypersons-woqjq\")\n",
    "version = project.version(9)\n",
    "dataset = version.download(\"yolov5\")\n"
   ]
  },
  {
   "cell_type": "markdown",
   "metadata": {
    "id": "4JnkELT0cIJg"
   },
   "source": [
    "# 1. Detect\n",
    "\n",
    "`detect.py` runs YOLOv5 inference on a variety of sources, downloading models automatically from the [latest YOLOv5 release](https://github.com/ultralytics/yolov5/releases), and saving results to `runs/detect`. Example inference sources are:\n",
    "\n",
    "```shell\n",
    "python detect.py --source 0  # webcam\n",
    "                          img.jpg  # image \n",
    "                          vid.mp4  # video\n",
    "                          screen  # screenshot\n",
    "                          path/  # directory\n",
    "                         'path/*.jpg'  # glob\n",
    "                         'https://youtu.be/Zgi9g1ksQHc'  # YouTube\n",
    "                         'rtsp://example.com/media.mp4'  # RTSP, RTMP, HTTP stream\n",
    "```"
   ]
  },
  {
   "cell_type": "code",
   "execution_count": 7,
   "metadata": {
    "ExecuteTime": {
     "end_time": "2024-04-25T12:55:20.242041Z",
     "start_time": "2024-04-25T12:55:20.115370Z"
    }
   },
   "outputs": [],
   "source": [
    "import cv2"
   ]
  },
  {
   "cell_type": "code",
   "execution_count": 5,
   "metadata": {},
   "outputs": [],
   "source": [
    "cap = cv2.VideoCapture(0)"
   ]
  },
  {
   "cell_type": "code",
   "execution_count": 9,
   "metadata": {},
   "outputs": [],
   "source": [
    "cap.release()"
   ]
  },
  {
   "cell_type": "code",
   "execution_count": 4,
   "metadata": {
    "ExecuteTime": {
     "end_time": "2024-04-25T12:55:55.882305Z",
     "start_time": "2024-04-25T12:55:55.740090Z"
    }
   },
   "outputs": [],
   "source": [
    "from detect import parse_opt,main"
   ]
  },
  {
   "cell_type": "code",
   "execution_count": null,
   "metadata": {},
   "outputs": [],
   "source": [
    "opt = parse_opt()\n",
    "print(opt)\n",
    "# opt.source = \"data/images\"\n",
    "# opt.weights = \"yolov5s.pt\"\n",
    "# opt.img_size = 640\n",
    "# opt.conf_thres = 0.25\n",
    "# print(opt)\n",
    "#main(opt)"
   ]
  },
  {
   "cell_type": "code",
   "execution_count": 11,
   "metadata": {
    "ExecuteTime": {
     "end_time": "2024-04-25T12:58:47.728517Z",
     "start_time": "2024-04-25T12:58:44.094127Z"
    },
    "execution": {
     "iopub.execute_input": "2024-04-10T20:51:27.252686Z",
     "iopub.status.busy": "2024-04-10T20:51:27.252078Z",
     "iopub.status.idle": "2024-04-10T20:51:36.604576Z",
     "shell.execute_reply": "2024-04-10T20:51:36.603498Z",
     "shell.execute_reply.started": "2024-04-10T20:51:27.252655Z"
    },
    "id": "zR9ZbuQCH7FX",
    "outputId": "b4db5c49-f501-4505-cf0d-a1d35236c485",
    "trusted": true
   },
   "outputs": [
    {
     "name": "stdout",
     "output_type": "stream",
     "text": [
      "Location:  runs\\train\\exp11\\weights\\best.pt\n"
     ]
    },
    {
     "name": "stderr",
     "output_type": "stream",
     "text": [
      "\u001b[34m\u001b[1mdetect_test: \u001b[0mweights=['runs/train/exp11/weights/best.pt'], source=data/videos/mixkit-times-square-during-a-rainy-night-4332-medium.mp4, data=data/citypersons.yaml, imgsz=[640, 640], conf_thres=0.25, iou_thres=0.45, max_det=1000, device=, view_img=False, save_txt=False, save_csv=False, save_conf=False, save_crop=False, nosave=False, classes=None, agnostic_nms=False, augment=False, visualize=False, update=False, project=runs\\detect, name=exp, exist_ok=False, line_thickness=3, hide_labels=False, hide_conf=False, half=False, dnn=False, vid_stride=1\n",
      "YOLOv5  2024-4-17 Python-3.12.1 torch-2.2.1+cpu CPU\n",
      "\n",
      "Fusing layers... \n",
      "Model summary: 157 layers, 7012822 parameters, 0 gradients, 15.8 GFLOPs\n",
      "Exception in thread Thread-1 (run):\n",
      "Traceback (most recent call last):\n",
      "  File \"c:\\Users\\robot\\anaconda3\\envs\\IDLS24\\Lib\\threading.py\", line 1073, in _bootstrap_inner\n",
      "    self.run()\n",
      "  File \"c:\\Users\\robot\\anaconda3\\envs\\IDLS24\\Lib\\threading.py\", line 1010, in run\n",
      "    self._target(*self._args, **self._kwargs)\n",
      "  File \"c:\\Users\\claude\\Documents\\CMU\\Year 1\\Sem2\\Applied Computer Vision\\Projects\\Pedestrian-detection\\yolov5\\detect_test.py\", line 181, in run\n",
      "    return bounding_boxes\n",
      "           ^^^^^^^^^^^^^^\n",
      "UnboundLocalError: cannot access local variable 'bounding_boxes' where it is not associated with a value\n",
      "Traceback (most recent call last):\n",
      "  File \"c:\\Users\\claude\\Documents\\CMU\\Year 1\\Sem2\\Applied Computer Vision\\Projects\\Pedestrian-detection\\yolov5\\detect_test.py\", line 317, in <module>\n",
      "    main(opt)\n",
      "  File \"c:\\Users\\claude\\Documents\\CMU\\Year 1\\Sem2\\Applied Computer Vision\\Projects\\Pedestrian-detection\\yolov5\\detect_test.py\", line 312, in main\n",
      "    run(**vars(opt))\n",
      "  File \"c:\\Users\\robot\\anaconda3\\envs\\IDLS24\\Lib\\site-packages\\torch\\utils\\_contextlib.py\", line 115, in decorate_context\n",
      "    return func(*args, **kwargs)\n",
      "           ^^^^^^^^^^^^^^^^^^^^^\n",
      "  File \"c:\\Users\\claude\\Documents\\CMU\\Year 1\\Sem2\\Applied Computer Vision\\Projects\\Pedestrian-detection\\yolov5\\detect_test.py\", line 263, in run\n",
      "    t = tuple(x.t / seen * 1e3 for x in dt)  # speeds per image\n",
      "        ^^^^^^^^^^^^^^^^^^^^^^^^^^^^^^^^^^^\n",
      "  File \"c:\\Users\\claude\\Documents\\CMU\\Year 1\\Sem2\\Applied Computer Vision\\Projects\\Pedestrian-detection\\yolov5\\detect_test.py\", line 263, in <genexpr>\n",
      "    t = tuple(x.t / seen * 1e3 for x in dt)  # speeds per image\n",
      "              ~~~~^~~~~~\n",
      "ZeroDivisionError: float division by zero\n"
     ]
    }
   ],
   "source": [
    "#!python detect_test.py --weights yolov5s.pt --img 640 --conf 0.25 --source 0\n",
    "!python detect_test.py --weights runs/train/exp11/weights/best.pt --img 640 --conf 0.25 --source data/videos/mixkit-times-square-during-a-rainy-night-4332-medium.mp4 --data data/citypersons.yaml\n",
    "#!python detect.py --weights yolov5s.pt --img 640 --conf 0.25 --source data/images\n",
    "#display.Image(filename='Citypersons-9/test/images/frankfurt_000001_032018_leftImg8bit_png.rf.09320fe2a67791bdc3af32ae6f2ab04b.jpg', width=600)"
   ]
  },
  {
   "cell_type": "code",
   "execution_count": 13,
   "metadata": {},
   "outputs": [
    {
     "name": "stdout",
     "output_type": "stream",
     "text": [
      "Collecting dill\n",
      "  Using cached dill-0.3.8-py3-none-any.whl.metadata (10 kB)\n",
      "Using cached dill-0.3.8-py3-none-any.whl (116 kB)\n",
      "Installing collected packages: dill\n",
      "Successfully installed dill-0.3.8\n"
     ]
    }
   ],
   "source": [
    "import sys\n",
    "!{sys.executable} -m pip install dill"
   ]
  },
  {
   "cell_type": "code",
   "execution_count": null,
   "metadata": {},
   "outputs": [],
   "source": [
    "!python detect_test.py --weights yolov5s.pt --img 640 --conf 0.25 --source data/videos/mixkit-times-square-during-a-rainy-night-4332-medium.mp4 --data data/citypersons.yaml"
   ]
  },
  {
   "cell_type": "markdown",
   "metadata": {
    "id": "0eq1SMWl6Sfn"
   },
   "source": [
    "# 2. Validate\n",
    "Validate a model's accuracy on the [COCO](https://cocodataset.org/#home) dataset's `val` or `test` splits. Models are downloaded automatically from the [latest YOLOv5 release](https://github.com/ultralytics/yolov5/releases). To show results by class use the `--verbose` flag."
   ]
  },
  {
   "cell_type": "code",
   "execution_count": null,
   "metadata": {
    "id": "WQPtK1QYVaD_",
    "outputId": "c7d0a0d2-abfb-44c3-d60d-f99d0e7aabad",
    "trusted": true
   },
   "outputs": [],
   "source": [
    "# Download COCO val\n",
    "#torch.hub.download_url_to_file('https://ultralytics.com/assets/coco2017val.zip', 'tmp.zip')  # download (780M - 5000 images)\n",
    "import unzip\n",
    "!unzip -q tmp.zip -d ../datasets && rm tmp.zip  "
   ]
  },
  {
   "cell_type": "code",
   "execution_count": null,
   "metadata": {
    "id": "X58w8JLpMnjH",
    "outputId": "5fc61358-7bc5-4310-a310-9059f66c6322",
    "trusted": true
   },
   "outputs": [],
   "source": [
    "# Validate YOLOv5s on COCO val\n",
    "!python val.py --weights yolov5s.pt --data coco.yaml --img 640 --half"
   ]
  },
  {
   "cell_type": "code",
   "execution_count": 2,
   "metadata": {
    "execution": {
     "iopub.execute_input": "2024-04-10T20:06:51.363331Z",
     "iopub.status.busy": "2024-04-10T20:06:51.362910Z",
     "iopub.status.idle": "2024-04-10T20:07:04.289029Z",
     "shell.execute_reply": "2024-04-10T20:07:04.288273Z",
     "shell.execute_reply.started": "2024-04-10T20:06:51.363300Z"
    },
    "trusted": true
   },
   "outputs": [
    {
     "name": "stdout",
     "output_type": "stream",
     "text": [
      "Requirement already satisfied: wandb in /opt/conda/lib/python3.10/site-packages (0.16.5)\n",
      "Requirement already satisfied: Click!=8.0.0,>=7.1 in /opt/conda/lib/python3.10/site-packages (from wandb) (8.1.7)\n",
      "Requirement already satisfied: GitPython!=3.1.29,>=1.0.0 in /opt/conda/lib/python3.10/site-packages (from wandb) (3.1.41)\n",
      "Requirement already satisfied: requests<3,>=2.0.0 in /opt/conda/lib/python3.10/site-packages (from wandb) (2.31.0)\n",
      "Requirement already satisfied: psutil>=5.0.0 in /opt/conda/lib/python3.10/site-packages (from wandb) (5.9.3)\n",
      "Requirement already satisfied: sentry-sdk>=1.0.0 in /opt/conda/lib/python3.10/site-packages (from wandb) (1.44.1)\n",
      "Requirement already satisfied: docker-pycreds>=0.4.0 in /opt/conda/lib/python3.10/site-packages (from wandb) (0.4.0)\n",
      "Requirement already satisfied: PyYAML in /opt/conda/lib/python3.10/site-packages (from wandb) (6.0.1)\n",
      "Requirement already satisfied: setproctitle in /opt/conda/lib/python3.10/site-packages (from wandb) (1.3.3)\n",
      "Requirement already satisfied: setuptools in /opt/conda/lib/python3.10/site-packages (from wandb) (69.0.3)\n",
      "Requirement already satisfied: appdirs>=1.4.3 in /opt/conda/lib/python3.10/site-packages (from wandb) (1.4.4)\n",
      "Requirement already satisfied: protobuf!=4.21.0,<5,>=3.19.0 in /opt/conda/lib/python3.10/site-packages (from wandb) (3.20.3)\n",
      "Requirement already satisfied: six>=1.4.0 in /opt/conda/lib/python3.10/site-packages (from docker-pycreds>=0.4.0->wandb) (1.16.0)\n",
      "Requirement already satisfied: gitdb<5,>=4.0.1 in /opt/conda/lib/python3.10/site-packages (from GitPython!=3.1.29,>=1.0.0->wandb) (4.0.11)\n",
      "Requirement already satisfied: charset-normalizer<4,>=2 in /opt/conda/lib/python3.10/site-packages (from requests<3,>=2.0.0->wandb) (3.3.2)\n",
      "Requirement already satisfied: idna<4,>=2.5 in /opt/conda/lib/python3.10/site-packages (from requests<3,>=2.0.0->wandb) (2.10)\n",
      "Requirement already satisfied: urllib3<3,>=1.21.1 in /opt/conda/lib/python3.10/site-packages (from requests<3,>=2.0.0->wandb) (1.26.18)\n",
      "Requirement already satisfied: certifi>=2017.4.17 in /opt/conda/lib/python3.10/site-packages (from requests<3,>=2.0.0->wandb) (2023.7.22)\n",
      "Requirement already satisfied: smmap<6,>=3.0.1 in /opt/conda/lib/python3.10/site-packages (from gitdb<5,>=4.0.1->GitPython!=3.1.29,>=1.0.0->wandb) (5.0.1)\n"
     ]
    }
   ],
   "source": [
    "!pip install wandb\n",
    "import wandb"
   ]
  },
  {
   "cell_type": "code",
   "execution_count": null,
   "metadata": {
    "trusted": true
   },
   "outputs": [],
   "source": [
    "wandb.login(key=\"3644f3d76a394594794c1b136a20f75303e871ba\")#API Key is in your wandb account, under settings (wandb.ai/settings)\n",
    "run = wandb.init(\n",
    "    name = \"Pedestrian detection\", ## Wandb creates random run names if you skip this field\n",
    "    reinit = True, ### Allows reinitalizing runs when you re-run this cell\n",
    "    id =\"pedestrian\", ### Insert specific run id here if you want to resume a previous run\n",
    "    #resume = \"must\", ### You need this to resume previous runs, but comment out reinit = True when using this\n",
    "    project = \"Pedestrian\", ### Project should be created in your wandb account\n",
    "    config = {} ### Wandb Config for your run\n",
    ")"
   ]
  },
  {
   "cell_type": "markdown",
   "metadata": {
    "id": "ZY2VXXXu74w5"
   },
   "source": [
    "# 3. Train\n",
    "\n",
    "<p align=\"\"><a href=\"https://roboflow.com/?ref=ultralytics\"><img width=\"1000\" src=\"https://github.com/ultralytics/assets/raw/master/im/integrations-loop.png\"/></a></p>\n",
    "Close the active learning loop by sampling images from your inference conditions with the `roboflow` pip package\n",
    "<br><br>\n",
    "\n",
    "Train a YOLOv5s model on the [COCO128](https://www.kaggle.com/ultralytics/coco128) dataset with `--data coco128.yaml`, starting from pretrained `--weights yolov5s.pt`, or from randomly initialized `--weights '' --cfg yolov5s.yaml`.\n",
    "\n",
    "- **Pretrained [Models](https://github.com/ultralytics/yolov5/tree/master/models)** are downloaded\n",
    "automatically from the [latest YOLOv5 release](https://github.com/ultralytics/yolov5/releases)\n",
    "- **[Datasets](https://github.com/ultralytics/yolov5/tree/master/data)** available for autodownload include: [COCO](https://github.com/ultralytics/yolov5/blob/master/data/coco.yaml), [COCO128](https://github.com/ultralytics/yolov5/blob/master/data/coco128.yaml), [VOC](https://github.com/ultralytics/yolov5/blob/master/data/VOC.yaml), [Argoverse](https://github.com/ultralytics/yolov5/blob/master/data/Argoverse.yaml), [VisDrone](https://github.com/ultralytics/yolov5/blob/master/data/VisDrone.yaml), [GlobalWheat](https://github.com/ultralytics/yolov5/blob/master/data/GlobalWheat2020.yaml), [xView](https://github.com/ultralytics/yolov5/blob/master/data/xView.yaml), [Objects365](https://github.com/ultralytics/yolov5/blob/master/data/Objects365.yaml), [SKU-110K](https://github.com/ultralytics/yolov5/blob/master/data/SKU-110K.yaml).\n",
    "- **Training Results** are saved to `runs/train/` with incrementing run directories, i.e. `runs/train/exp2`, `runs/train/exp3` etc.\n",
    "<br><br>\n",
    "\n",
    "A **Mosaic Dataloader** is used for training which combines 4 images into 1 mosaic.\n",
    "\n",
    "## Train on Custom Data with Roboflow 🌟 NEW\n",
    "\n",
    "[Roboflow](https://roboflow.com/?ref=ultralytics) enables you to easily **organize, label, and prepare** a high quality dataset with your own custom data. Roboflow also makes it easy to establish an active learning pipeline, collaborate with your team on dataset improvement, and integrate directly into your model building workflow with the `roboflow` pip package.\n",
    "\n",
    "- Custom Training Example: [https://blog.roboflow.com/how-to-train-yolov5-on-a-custom-dataset/](https://blog.roboflow.com/how-to-train-yolov5-on-a-custom-dataset/?ref=ultralytics)\n",
    "- Custom Training Notebook: [![Open In Colab](https://colab.research.google.com/assets/colab-badge.svg)](https://colab.research.google.com/github/roboflow-ai/yolov5-custom-training-tutorial/blob/main/yolov5-custom-training.ipynb)\n",
    "<br>\n",
    "\n",
    "<p align=\"\"><a href=\"https://roboflow.com/?ref=ultralytics\"><img width=\"480\" src=\"https://uploads-ssl.webflow.com/5f6bc60e665f54545a1e52a5/6152a275ad4b4ac20cd2e21a_roboflow-annotate.gif\"/></a></p>Label images lightning fast (including with model-assisted labeling)"
   ]
  },
  {
   "cell_type": "code",
   "execution_count": 2,
   "metadata": {
    "execution": {
     "iopub.execute_input": "2024-04-02T15:59:08.090489Z",
     "iopub.status.busy": "2024-04-02T15:59:08.089949Z",
     "iopub.status.idle": "2024-04-02T15:59:22.645086Z",
     "shell.execute_reply": "2024-04-02T15:59:22.643861Z",
     "shell.execute_reply.started": "2024-04-02T15:59:08.090453Z"
    },
    "id": "i3oKtE4g-aNn",
    "trusted": true
   },
   "outputs": [
    {
     "data": {
      "text/html": [
       "\n",
       "      <iframe id=\"tensorboard-frame-231231ed51e11763\" width=\"100%\" height=\"800\" frameborder=\"0\">\n",
       "      </iframe>\n",
       "      <script>\n",
       "        (function() {\n",
       "          const frame = document.getElementById(\"tensorboard-frame-231231ed51e11763\");\n",
       "          const url = new URL(\"/\", window.location);\n",
       "          const port = 6006;\n",
       "          if (port) {\n",
       "            url.port = port;\n",
       "          }\n",
       "          frame.src = url;\n",
       "        })();\n",
       "      </script>\n",
       "    "
      ],
      "text/plain": [
       "<IPython.core.display.HTML object>"
      ]
     },
     "metadata": {},
     "output_type": "display_data"
    }
   ],
   "source": [
    "#@title Select YOLOv5 🚀 logger {run: 'auto'}\n",
    "logger = 'TensorBoard' #@param ['TensorBoard', 'Comet', 'ClearML']\n",
    "\n",
    "if logger == 'TensorBoard':\n",
    "  %load_ext tensorboard\n",
    "  %tensorboard --logdir runs/train\n",
    "elif logger == 'Comet':\n",
    "  %pip install -q comet_ml\n",
    "  import comet_ml; comet_ml.init()\n",
    "elif logger == 'ClearML':\n",
    "  %pip install -q clearml\n",
    "  import clearml; clearml.browser_login()"
   ]
  },
  {
   "cell_type": "code",
   "execution_count": null,
   "metadata": {
    "id": "1NcFxRcFdJ_O",
    "outputId": "721b9028-767f-4a05-c964-692c245f7398",
    "trusted": true
   },
   "outputs": [],
   "source": [
    "# Train YOLOv5s on COCO128 for 3 epochs\n",
    "#!python train.py --img 640 --batch 16 --epochs 10 --data coco128.yaml --weights yolov5s.pt --cache"
   ]
  },
  {
   "cell_type": "code",
   "execution_count": 41,
   "metadata": {
    "execution": {
     "iopub.execute_input": "2024-04-10T20:58:38.434295Z",
     "iopub.status.busy": "2024-04-10T20:58:38.433897Z",
     "iopub.status.idle": "2024-04-10T21:34:54.299582Z",
     "shell.execute_reply": "2024-04-10T21:34:54.298319Z",
     "shell.execute_reply.started": "2024-04-10T20:58:38.434267Z"
    },
    "trusted": true
   },
   "outputs": [
    {
     "name": "stdout",
     "output_type": "stream",
     "text": [
      "2024-04-10 20:58:45.987952: E external/local_xla/xla/stream_executor/cuda/cuda_dnn.cc:9261] Unable to register cuDNN factory: Attempting to register factory for plugin cuDNN when one has already been registered\n",
      "2024-04-10 20:58:45.988013: E external/local_xla/xla/stream_executor/cuda/cuda_fft.cc:607] Unable to register cuFFT factory: Attempting to register factory for plugin cuFFT when one has already been registered\n",
      "2024-04-10 20:58:45.989636: E external/local_xla/xla/stream_executor/cuda/cuda_blas.cc:1515] Unable to register cuBLAS factory: Attempting to register factory for plugin cuBLAS when one has already been registered\n",
      "\u001b[34m\u001b[1mtrain: \u001b[0mweights=yolov5s.pt, cfg=, data=citypersons.yaml, hyp=data/hyps/hyp.scratch-low.yaml, epochs=50, batch_size=16, imgsz=640, rect=False, resume=False, nosave=False, noval=False, noautoanchor=False, noplots=False, evolve=None, evolve_population=data/hyps, resume_evolve=None, bucket=, cache=ram, image_weights=False, device=, multi_scale=False, single_cls=False, optimizer=SGD, sync_bn=False, workers=8, project=runs/train, name=exp, exist_ok=False, quad=False, cos_lr=False, label_smoothing=0.0, patience=100, freeze=[0], save_period=-1, seed=0, local_rank=-1, entity=None, upload_dataset=False, bbox_interval=-1, artifact_alias=latest, ndjson_console=False, ndjson_file=False\n",
      "\u001b[34m\u001b[1mgithub: \u001b[0m⚠️ YOLOv5 is out of date by 2 commits. Use 'git pull' or 'git clone https://github.com/ultralytics/yolov5' to update.\n",
      "YOLOv5 🚀 v7.0-295-gac6c4383 Python-3.10.13 torch-2.1.2 CUDA:0 (Tesla P100-PCIE-16GB, 16276MiB)\n",
      "\n",
      "\u001b[34m\u001b[1mhyperparameters: \u001b[0mlr0=0.01, lrf=0.01, momentum=0.937, weight_decay=0.0005, warmup_epochs=3.0, warmup_momentum=0.8, warmup_bias_lr=0.1, box=0.05, cls=0.5, cls_pw=1.0, obj=1.0, obj_pw=1.0, iou_t=0.2, anchor_t=4.0, fl_gamma=0.0, hsv_h=0.015, hsv_s=0.7, hsv_v=0.4, degrees=0.0, translate=0.1, scale=0.5, shear=0.0, perspective=0.0, flipud=0.0, fliplr=0.5, mosaic=1.0, mixup=0.0, copy_paste=0.0\n",
      "\u001b[34m\u001b[1mComet: \u001b[0mrun 'pip install comet_ml' to automatically track and visualize YOLOv5 🚀 runs in Comet\n",
      "\u001b[34m\u001b[1mTensorBoard: \u001b[0mStart with 'tensorboard --logdir runs/train', view at http://localhost:6006/\n",
      "Overriding model.yaml nc=80 with nc=1\n",
      "\n",
      "                 from  n    params  module                                  arguments                     \n",
      "  0                -1  1      3520  models.common.Conv                      [3, 32, 6, 2, 2]              \n",
      "  1                -1  1     18560  models.common.Conv                      [32, 64, 3, 2]                \n",
      "  2                -1  1     18816  models.common.C3                        [64, 64, 1]                   \n",
      "  3                -1  1     73984  models.common.Conv                      [64, 128, 3, 2]               \n",
      "  4                -1  2    115712  models.common.C3                        [128, 128, 2]                 \n",
      "  5                -1  1    295424  models.common.Conv                      [128, 256, 3, 2]              \n",
      "  6                -1  3    625152  models.common.C3                        [256, 256, 3]                 \n",
      "  7                -1  1   1180672  models.common.Conv                      [256, 512, 3, 2]              \n",
      "  8                -1  1   1182720  models.common.C3                        [512, 512, 1]                 \n",
      "  9                -1  1    656896  models.common.SPPF                      [512, 512, 5]                 \n",
      " 10                -1  1    131584  models.common.Conv                      [512, 256, 1, 1]              \n",
      " 11                -1  1         0  torch.nn.modules.upsampling.Upsample    [None, 2, 'nearest']          \n",
      " 12           [-1, 6]  1         0  models.common.Concat                    [1]                           \n",
      " 13                -1  1    361984  models.common.C3                        [512, 256, 1, False]          \n",
      " 14                -1  1     33024  models.common.Conv                      [256, 128, 1, 1]              \n",
      " 15                -1  1         0  torch.nn.modules.upsampling.Upsample    [None, 2, 'nearest']          \n",
      " 16           [-1, 4]  1         0  models.common.Concat                    [1]                           \n",
      " 17                -1  1     90880  models.common.C3                        [256, 128, 1, False]          \n",
      " 18                -1  1    147712  models.common.Conv                      [128, 128, 3, 2]              \n",
      " 19          [-1, 14]  1         0  models.common.Concat                    [1]                           \n",
      " 20                -1  1    296448  models.common.C3                        [256, 256, 1, False]          \n",
      " 21                -1  1    590336  models.common.Conv                      [256, 256, 3, 2]              \n",
      " 22          [-1, 10]  1         0  models.common.Concat                    [1]                           \n",
      " 23                -1  1   1182720  models.common.C3                        [512, 512, 1, False]          \n",
      " 24      [17, 20, 23]  1     16182  models.yolo.Detect                      [1, [[10, 13, 16, 30, 33, 23], [30, 61, 62, 45, 59, 119], [116, 90, 156, 198, 373, 326]], [128, 256, 512]]\n",
      "Model summary: 214 layers, 7022326 parameters, 7022326 gradients, 15.9 GFLOPs\n",
      "\n",
      "Transferred 343/349 items from yolov5s.pt\n",
      "\u001b[34m\u001b[1mAMP: \u001b[0mchecks passed ✅\n",
      "\u001b[34m\u001b[1moptimizer:\u001b[0m SGD(lr=0.01) with parameter groups 57 weight(decay=0.0), 60 weight(decay=0.0005), 60 bias\n",
      "\u001b[34m\u001b[1malbumentations: \u001b[0mBlur(p=0.01, blur_limit=(3, 7)), MedianBlur(p=0.01, blur_limit=(3, 7)), ToGray(p=0.01), CLAHE(p=0.01, clip_limit=(1, 4.0), tile_grid_size=(8, 8))\n",
      "\u001b[34m\u001b[1mtrain: \u001b[0mScanning /kaggle/working/datasets/Citypersons-9/train/labels.cache... 279\u001b[0m\n",
      "\u001b[34m\u001b[1mtrain: \u001b[0mCaching images (1.6GB ram): 100%|██████████| 2792/2792 [00:11<00:00, 246.\u001b[0m\n",
      "\u001b[34m\u001b[1mval: \u001b[0mScanning /kaggle/working/datasets/Citypersons-9/valid/labels.cache... 342 i\u001b[0m\n",
      "\u001b[34m\u001b[1mval: \u001b[0mCaching images (0.2GB ram): 100%|██████████| 342/342 [00:01<00:00, 201.35it\u001b[0m\n",
      "\n",
      "\u001b[34m\u001b[1mAutoAnchor: \u001b[0m3.57 anchors/target, 0.963 Best Possible Recall (BPR). Anchors are a poor fit to dataset ⚠️, attempting to improve...\n",
      "\u001b[34m\u001b[1mAutoAnchor: \u001b[0mWARNING ⚠️ Extremely small objects found: 998 of 18577 labels are <3 pixels in size\n",
      "\u001b[34m\u001b[1mAutoAnchor: \u001b[0mRunning kmeans for 9 anchors on 18521 points...\n",
      "\u001b[34m\u001b[1mAutoAnchor: \u001b[0mEvolving anchors with Genetic Algorithm: fitness = 0.8668: 100%|████\u001b[0m\n",
      "\u001b[34m\u001b[1mAutoAnchor: \u001b[0mthr=0.25: 0.9928 best possible recall, 5.96 anchors past thr\n",
      "\u001b[34m\u001b[1mAutoAnchor: \u001b[0mn=9, img_size=640, metric_all=0.416/0.865-mean/best, past_thr=0.555-mean: 3,9, 6,16, 10,24, 14,33, 19,46, 26,63, 37,89, 50,127, 77,183\n",
      "\u001b[34m\u001b[1mAutoAnchor: \u001b[0mDone ✅ (optional: update model *.yaml to use these anchors in the future)\n",
      "Plotting labels to runs/train/exp12/labels.jpg... \n",
      "/opt/conda/lib/python3.10/site-packages/seaborn/_oldcore.py:1119: FutureWarning: use_inf_as_na option is deprecated and will be removed in a future version. Convert inf values to NaN before operating instead.\n",
      "  with pd.option_context('mode.use_inf_as_na', True):\n",
      "/opt/conda/lib/python3.10/site-packages/seaborn/_oldcore.py:1119: FutureWarning: use_inf_as_na option is deprecated and will be removed in a future version. Convert inf values to NaN before operating instead.\n",
      "  with pd.option_context('mode.use_inf_as_na', True):\n",
      "/opt/conda/lib/python3.10/site-packages/seaborn/_oldcore.py:1119: FutureWarning: use_inf_as_na option is deprecated and will be removed in a future version. Convert inf values to NaN before operating instead.\n",
      "  with pd.option_context('mode.use_inf_as_na', True):\n",
      "/opt/conda/lib/python3.10/site-packages/seaborn/_oldcore.py:1119: FutureWarning: use_inf_as_na option is deprecated and will be removed in a future version. Convert inf values to NaN before operating instead.\n",
      "  with pd.option_context('mode.use_inf_as_na', True):\n",
      "/opt/conda/lib/python3.10/site-packages/seaborn/_oldcore.py:1119: FutureWarning: use_inf_as_na option is deprecated and will be removed in a future version. Convert inf values to NaN before operating instead.\n",
      "  with pd.option_context('mode.use_inf_as_na', True):\n",
      "/opt/conda/lib/python3.10/site-packages/seaborn/_oldcore.py:1119: FutureWarning: use_inf_as_na option is deprecated and will be removed in a future version. Convert inf values to NaN before operating instead.\n",
      "  with pd.option_context('mode.use_inf_as_na', True):\n",
      "/opt/conda/lib/python3.10/site-packages/seaborn/_oldcore.py:1119: FutureWarning: use_inf_as_na option is deprecated and will be removed in a future version. Convert inf values to NaN before operating instead.\n",
      "  with pd.option_context('mode.use_inf_as_na', True):\n",
      "/opt/conda/lib/python3.10/site-packages/seaborn/_oldcore.py:1119: FutureWarning: use_inf_as_na option is deprecated and will be removed in a future version. Convert inf values to NaN before operating instead.\n",
      "  with pd.option_context('mode.use_inf_as_na', True):\n",
      "/opt/conda/lib/python3.10/site-packages/seaborn/_oldcore.py:1119: FutureWarning: use_inf_as_na option is deprecated and will be removed in a future version. Convert inf values to NaN before operating instead.\n",
      "  with pd.option_context('mode.use_inf_as_na', True):\n",
      "/opt/conda/lib/python3.10/site-packages/seaborn/_oldcore.py:1119: FutureWarning: use_inf_as_na option is deprecated and will be removed in a future version. Convert inf values to NaN before operating instead.\n",
      "  with pd.option_context('mode.use_inf_as_na', True):\n",
      "/opt/conda/lib/python3.10/site-packages/seaborn/_oldcore.py:1119: FutureWarning: use_inf_as_na option is deprecated and will be removed in a future version. Convert inf values to NaN before operating instead.\n",
      "  with pd.option_context('mode.use_inf_as_na', True):\n",
      "/opt/conda/lib/python3.10/site-packages/seaborn/_oldcore.py:1119: FutureWarning: use_inf_as_na option is deprecated and will be removed in a future version. Convert inf values to NaN before operating instead.\n",
      "  with pd.option_context('mode.use_inf_as_na', True):\n",
      "/opt/conda/lib/python3.10/site-packages/seaborn/_oldcore.py:1119: FutureWarning: use_inf_as_na option is deprecated and will be removed in a future version. Convert inf values to NaN before operating instead.\n",
      "  with pd.option_context('mode.use_inf_as_na', True):\n",
      "/opt/conda/lib/python3.10/site-packages/seaborn/_oldcore.py:1119: FutureWarning: use_inf_as_na option is deprecated and will be removed in a future version. Convert inf values to NaN before operating instead.\n",
      "  with pd.option_context('mode.use_inf_as_na', True):\n",
      "/opt/conda/lib/python3.10/site-packages/seaborn/_oldcore.py:1119: FutureWarning: use_inf_as_na option is deprecated and will be removed in a future version. Convert inf values to NaN before operating instead.\n",
      "  with pd.option_context('mode.use_inf_as_na', True):\n",
      "/opt/conda/lib/python3.10/site-packages/seaborn/_oldcore.py:1119: FutureWarning: use_inf_as_na option is deprecated and will be removed in a future version. Convert inf values to NaN before operating instead.\n",
      "  with pd.option_context('mode.use_inf_as_na', True):\n",
      "/opt/conda/lib/python3.10/site-packages/seaborn/_oldcore.py:1119: FutureWarning: use_inf_as_na option is deprecated and will be removed in a future version. Convert inf values to NaN before operating instead.\n",
      "  with pd.option_context('mode.use_inf_as_na', True):\n",
      "/opt/conda/lib/python3.10/site-packages/seaborn/_oldcore.py:1119: FutureWarning: use_inf_as_na option is deprecated and will be removed in a future version. Convert inf values to NaN before operating instead.\n",
      "  with pd.option_context('mode.use_inf_as_na', True):\n",
      "/opt/conda/lib/python3.10/site-packages/seaborn/_oldcore.py:1119: FutureWarning: use_inf_as_na option is deprecated and will be removed in a future version. Convert inf values to NaN before operating instead.\n",
      "  with pd.option_context('mode.use_inf_as_na', True):\n",
      "/opt/conda/lib/python3.10/site-packages/seaborn/_oldcore.py:1119: FutureWarning: use_inf_as_na option is deprecated and will be removed in a future version. Convert inf values to NaN before operating instead.\n",
      "  with pd.option_context('mode.use_inf_as_na', True):\n",
      "Image sizes 640 train, 640 val\n",
      "Using 4 dataloader workers\n",
      "Logging results to \u001b[1mruns/train/exp12\u001b[0m\n",
      "Starting training for 50 epochs...\n",
      "\n",
      "      Epoch    GPU_mem   box_loss   obj_loss   cls_loss  Instances       Size\n",
      "       0/49      3.73G      0.113    0.03838          0         90        640: 1\n",
      "                 Class     Images  Instances          P          R      mAP50   \n",
      "                   all        342       2156      0.497      0.349      0.355       0.12\n",
      "\n",
      "      Epoch    GPU_mem   box_loss   obj_loss   cls_loss  Instances       Size\n",
      "       1/49      3.73G    0.09282    0.03422          0         90        640: 1\n",
      "                 Class     Images  Instances          P          R      mAP50   \n",
      "                   all        342       2156      0.626      0.419      0.468      0.188\n",
      "\n",
      "      Epoch    GPU_mem   box_loss   obj_loss   cls_loss  Instances       Size\n",
      "       2/49      3.73G     0.0894    0.03401          0        144        640: 1\n",
      "                 Class     Images  Instances          P          R      mAP50   \n",
      "                   all        342       2156      0.538      0.438      0.452      0.197\n",
      "\n",
      "      Epoch    GPU_mem   box_loss   obj_loss   cls_loss  Instances       Size\n",
      "       3/49      3.73G    0.08445    0.03439          0        147        640: 1\n",
      "                 Class     Images  Instances          P          R      mAP50   \n",
      "                   all        342       2156       0.72      0.483      0.557      0.273\n",
      "\n",
      "      Epoch    GPU_mem   box_loss   obj_loss   cls_loss  Instances       Size\n",
      "       4/49      3.73G    0.08141    0.03321          0         68        640: 1\n",
      "                 Class     Images  Instances          P          R      mAP50   \n",
      "                   all        342       2156      0.779      0.486      0.578      0.288\n",
      "\n",
      "      Epoch    GPU_mem   box_loss   obj_loss   cls_loss  Instances       Size\n",
      "       5/49      3.73G    0.07838     0.0328          0        111        640: 1\n",
      "                 Class     Images  Instances          P          R      mAP50   \n",
      "                   all        342       2156      0.779      0.475      0.576      0.296\n",
      "\n",
      "      Epoch    GPU_mem   box_loss   obj_loss   cls_loss  Instances       Size\n",
      "       6/49      3.73G    0.07761    0.03273          0         30        640: 1\n",
      "                 Class     Images  Instances          P          R      mAP50   \n",
      "                   all        342       2156       0.76      0.486      0.574      0.285\n",
      "\n",
      "      Epoch    GPU_mem   box_loss   obj_loss   cls_loss  Instances       Size\n",
      "       7/49      3.73G    0.07682    0.03302          0         45        640: 1\n",
      "                 Class     Images  Instances          P          R      mAP50   \n",
      "                   all        342       2156      0.728      0.517      0.589      0.312\n",
      "\n",
      "      Epoch    GPU_mem   box_loss   obj_loss   cls_loss  Instances       Size\n",
      "       8/49      3.73G    0.07576    0.03306          0        141        640: 1\n",
      "                 Class     Images  Instances          P          R      mAP50   \n",
      "                   all        342       2156      0.746      0.509      0.594       0.32\n",
      "\n",
      "      Epoch    GPU_mem   box_loss   obj_loss   cls_loss  Instances       Size\n",
      "       9/49      3.73G    0.07518    0.03217          0         72        640: 1\n",
      "                 Class     Images  Instances          P          R      mAP50   \n",
      "                   all        342       2156      0.795        0.5      0.602       0.33\n",
      "\n",
      "      Epoch    GPU_mem   box_loss   obj_loss   cls_loss  Instances       Size\n",
      "      10/49      3.73G    0.07524    0.03193          0         68        640: 1\n",
      "                 Class     Images  Instances          P          R      mAP50   \n",
      "                   all        342       2156      0.792      0.514      0.611      0.323\n",
      "\n",
      "      Epoch    GPU_mem   box_loss   obj_loss   cls_loss  Instances       Size\n",
      "      11/49      3.73G    0.07399    0.03205          0        139        640: 1\n",
      "                 Class     Images  Instances          P          R      mAP50   \n",
      "                   all        342       2156      0.747      0.515      0.605      0.329\n",
      "\n",
      "      Epoch    GPU_mem   box_loss   obj_loss   cls_loss  Instances       Size\n",
      "      12/49      3.73G    0.07432    0.03159          0        117        640: 1\n",
      "                 Class     Images  Instances          P          R      mAP50   \n",
      "                   all        342       2156      0.744      0.513      0.605       0.33\n",
      "\n",
      "      Epoch    GPU_mem   box_loss   obj_loss   cls_loss  Instances       Size\n",
      "      13/49      3.73G    0.07383    0.03206          0         78        640: 1\n",
      "                 Class     Images  Instances          P          R      mAP50   \n",
      "                   all        342       2156       0.77       0.51      0.611      0.336\n",
      "\n",
      "      Epoch    GPU_mem   box_loss   obj_loss   cls_loss  Instances       Size\n",
      "      14/49      3.73G    0.07405    0.03148          0         36        640: 1\n",
      "                 Class     Images  Instances          P          R      mAP50   \n",
      "                   all        342       2156      0.787       0.51      0.616      0.338\n",
      "\n",
      "      Epoch    GPU_mem   box_loss   obj_loss   cls_loss  Instances       Size\n",
      "      15/49      3.73G    0.07341    0.03097          0         88        640: 1\n",
      "                 Class     Images  Instances          P          R      mAP50   \n",
      "                   all        342       2156      0.767      0.507      0.613       0.34\n",
      "\n",
      "      Epoch    GPU_mem   box_loss   obj_loss   cls_loss  Instances       Size\n",
      "      16/49      3.73G     0.0724    0.03051          0         94        640: 1\n",
      "                 Class     Images  Instances          P          R      mAP50   \n",
      "                   all        342       2156      0.788      0.523      0.623      0.351\n",
      "\n",
      "      Epoch    GPU_mem   box_loss   obj_loss   cls_loss  Instances       Size\n",
      "      17/49      3.73G    0.07257    0.03092          0         83        640: 1\n",
      "                 Class     Images  Instances          P          R      mAP50   \n",
      "                   all        342       2156      0.793      0.506      0.614      0.338\n",
      "\n",
      "      Epoch    GPU_mem   box_loss   obj_loss   cls_loss  Instances       Size\n",
      "      18/49      3.73G    0.07166    0.03059          0         83        640: 1\n",
      "                 Class     Images  Instances          P          R      mAP50   \n",
      "                   all        342       2156      0.784       0.52      0.619      0.348\n",
      "\n",
      "      Epoch    GPU_mem   box_loss   obj_loss   cls_loss  Instances       Size\n",
      "      19/49      3.73G    0.07248    0.03022          0         48        640: 1\n",
      "                 Class     Images  Instances          P          R      mAP50   \n",
      "                   all        342       2156       0.78      0.512       0.61      0.343\n",
      "\n",
      "      Epoch    GPU_mem   box_loss   obj_loss   cls_loss  Instances       Size\n",
      "      20/49      3.73G    0.07148     0.0304          0         81        640: 1\n",
      "                 Class     Images  Instances          P          R      mAP50   \n",
      "                   all        342       2156      0.768      0.522      0.619      0.352\n",
      "\n",
      "      Epoch    GPU_mem   box_loss   obj_loss   cls_loss  Instances       Size\n",
      "      21/49      3.73G    0.07177    0.03015          0        142        640: 1\n",
      "                 Class     Images  Instances          P          R      mAP50   \n",
      "                   all        342       2156      0.789      0.531      0.629      0.353\n",
      "\n",
      "      Epoch    GPU_mem   box_loss   obj_loss   cls_loss  Instances       Size\n",
      "      22/49      3.73G     0.0713    0.03105          0        121        640: 1\n",
      "                 Class     Images  Instances          P          R      mAP50   \n",
      "                   all        342       2156      0.782      0.532      0.629      0.355\n",
      "\n",
      "      Epoch    GPU_mem   box_loss   obj_loss   cls_loss  Instances       Size\n",
      "      23/49      3.73G    0.07078    0.02963          0        139        640: 1\n",
      "                 Class     Images  Instances          P          R      mAP50   \n",
      "                   all        342       2156      0.788      0.535      0.631      0.356\n",
      "\n",
      "      Epoch    GPU_mem   box_loss   obj_loss   cls_loss  Instances       Size\n",
      "      24/49      3.73G    0.07089    0.03054          0         81        640: 1\n",
      "                 Class     Images  Instances          P          R      mAP50   \n",
      "                   all        342       2156      0.796      0.529      0.635      0.361\n",
      "\n",
      "      Epoch    GPU_mem   box_loss   obj_loss   cls_loss  Instances       Size\n",
      "      25/49      3.73G    0.07048    0.02947          0         54        640: 1\n",
      "                 Class     Images  Instances          P          R      mAP50   \n",
      "                   all        342       2156      0.826      0.519      0.632      0.358\n",
      "\n",
      "      Epoch    GPU_mem   box_loss   obj_loss   cls_loss  Instances       Size\n",
      "      26/49      3.73G    0.07062     0.0303          0        129        640: 1\n",
      "                 Class     Images  Instances          P          R      mAP50   \n",
      "                   all        342       2156      0.789      0.539      0.639      0.364\n",
      "\n",
      "      Epoch    GPU_mem   box_loss   obj_loss   cls_loss  Instances       Size\n",
      "      27/49      3.73G    0.07053    0.02941          0         99        640: 1\n",
      "                 Class     Images  Instances          P          R      mAP50   \n",
      "                   all        342       2156      0.821      0.521      0.629      0.363\n",
      "\n",
      "      Epoch    GPU_mem   box_loss   obj_loss   cls_loss  Instances       Size\n",
      "      28/49      3.73G    0.06997    0.02963          0        124        640: 1\n",
      "                 Class     Images  Instances          P          R      mAP50   \n",
      "                   all        342       2156      0.828       0.51      0.629      0.358\n",
      "\n",
      "      Epoch    GPU_mem   box_loss   obj_loss   cls_loss  Instances       Size\n",
      "      29/49      3.73G    0.06993    0.02893          0         62        640: 1\n",
      "                 Class     Images  Instances          P          R      mAP50   \n",
      "                   all        342       2156      0.828      0.516      0.634      0.366\n",
      "\n",
      "      Epoch    GPU_mem   box_loss   obj_loss   cls_loss  Instances       Size\n",
      "      30/49      3.73G    0.06988    0.02971          0         95        640: 1\n",
      "                 Class     Images  Instances          P          R      mAP50   \n",
      "                   all        342       2156      0.783      0.533      0.636      0.367\n",
      "\n",
      "      Epoch    GPU_mem   box_loss   obj_loss   cls_loss  Instances       Size\n",
      "      31/49      3.73G    0.06971    0.02954          0         96        640: 1\n",
      "                 Class     Images  Instances          P          R      mAP50   \n",
      "                   all        342       2156      0.785       0.53      0.631      0.366\n",
      "\n",
      "      Epoch    GPU_mem   box_loss   obj_loss   cls_loss  Instances       Size\n",
      "      32/49      3.73G    0.06967    0.02921          0        106        640: 1\n",
      "                 Class     Images  Instances          P          R      mAP50   \n",
      "                   all        342       2156        0.8      0.529      0.635      0.366\n",
      "\n",
      "      Epoch    GPU_mem   box_loss   obj_loss   cls_loss  Instances       Size\n",
      "      33/49      3.73G    0.06932    0.02843          0         99        640: 1\n",
      "                 Class     Images  Instances          P          R      mAP50   \n",
      "                   all        342       2156       0.77      0.549       0.64      0.366\n",
      "\n",
      "      Epoch    GPU_mem   box_loss   obj_loss   cls_loss  Instances       Size\n",
      "      34/49      3.73G    0.06841    0.02859          0        127        640: 1\n",
      "                 Class     Images  Instances          P          R      mAP50   \n",
      "                   all        342       2156      0.802      0.521      0.632      0.368\n",
      "\n",
      "      Epoch    GPU_mem   box_loss   obj_loss   cls_loss  Instances       Size\n",
      "      35/49      3.73G    0.06956    0.02946          0         98        640: 1\n",
      "                 Class     Images  Instances          P          R      mAP50   \n",
      "                   all        342       2156      0.804      0.533      0.637      0.367\n",
      "\n",
      "      Epoch    GPU_mem   box_loss   obj_loss   cls_loss  Instances       Size\n",
      "      36/49      3.73G    0.06917    0.02856          0         75        640: 1\n",
      "                 Class     Images  Instances          P          R      mAP50   \n",
      "                   all        342       2156      0.796      0.539      0.648      0.374\n",
      "\n",
      "      Epoch    GPU_mem   box_loss   obj_loss   cls_loss  Instances       Size\n",
      "      37/49      3.73G    0.06868     0.0288          0         67        640: 1\n",
      "                 Class     Images  Instances          P          R      mAP50   \n",
      "                   all        342       2156      0.817      0.546      0.651      0.372\n",
      "\n",
      "      Epoch    GPU_mem   box_loss   obj_loss   cls_loss  Instances       Size\n",
      "      38/49      3.73G    0.06814    0.02813          0         88        640: 1\n",
      "                 Class     Images  Instances          P          R      mAP50   \n",
      "                   all        342       2156      0.816      0.525      0.643      0.371\n",
      "\n",
      "      Epoch    GPU_mem   box_loss   obj_loss   cls_loss  Instances       Size\n",
      "      39/49      3.73G    0.06796    0.02807          0        107        640: 1\n",
      "                 Class     Images  Instances          P          R      mAP50   \n",
      "                   all        342       2156      0.802      0.547      0.649      0.377\n",
      "\n",
      "      Epoch    GPU_mem   box_loss   obj_loss   cls_loss  Instances       Size\n",
      "      40/49      3.73G    0.06803    0.02831          0        180        640: 1\n",
      "                 Class     Images  Instances          P          R      mAP50   \n",
      "                   all        342       2156      0.806      0.541      0.645       0.37\n",
      "\n",
      "      Epoch    GPU_mem   box_loss   obj_loss   cls_loss  Instances       Size\n",
      "      41/49      3.73G    0.06892    0.02866          0         57        640: 1\n",
      "                 Class     Images  Instances          P          R      mAP50   \n",
      "                   all        342       2156      0.807      0.534      0.641      0.371\n",
      "\n",
      "      Epoch    GPU_mem   box_loss   obj_loss   cls_loss  Instances       Size\n",
      "      42/49      3.73G    0.06786    0.02845          0         69        640: 1\n",
      "                 Class     Images  Instances          P          R      mAP50   \n",
      "                   all        342       2156      0.775      0.562       0.65      0.376\n",
      "\n",
      "      Epoch    GPU_mem   box_loss   obj_loss   cls_loss  Instances       Size\n",
      "      43/49      3.73G    0.06818    0.02827          0         93        640: 1\n",
      "                 Class     Images  Instances          P          R      mAP50   \n",
      "                   all        342       2156      0.822      0.538      0.641      0.374\n",
      "\n",
      "      Epoch    GPU_mem   box_loss   obj_loss   cls_loss  Instances       Size\n",
      "      44/49      3.73G    0.06734    0.02787          0         72        640: 1\n",
      "                 Class     Images  Instances          P          R      mAP50   \n",
      "                   all        342       2156      0.797      0.547      0.644      0.371\n",
      "\n",
      "      Epoch    GPU_mem   box_loss   obj_loss   cls_loss  Instances       Size\n",
      "      45/49      3.73G    0.06836    0.02757          0         86        640: 1\n",
      "                 Class     Images  Instances          P          R      mAP50   \n",
      "                   all        342       2156      0.834      0.533      0.645      0.374\n",
      "\n",
      "      Epoch    GPU_mem   box_loss   obj_loss   cls_loss  Instances       Size\n",
      "      46/49      3.73G    0.06759     0.0277          0         97        640: 1\n",
      "                 Class     Images  Instances          P          R      mAP50   \n",
      "                   all        342       2156      0.785      0.551      0.644      0.374\n",
      "\n",
      "      Epoch    GPU_mem   box_loss   obj_loss   cls_loss  Instances       Size\n",
      "      47/49      3.73G    0.06794    0.02817          0        116        640: 1\n",
      "                 Class     Images  Instances          P          R      mAP50   \n",
      "                   all        342       2156      0.811      0.547      0.648      0.377\n",
      "\n",
      "      Epoch    GPU_mem   box_loss   obj_loss   cls_loss  Instances       Size\n",
      "      48/49      3.73G    0.06735    0.02709          0         83        640: 1\n",
      "                 Class     Images  Instances          P          R      mAP50   \n",
      "                   all        342       2156      0.822      0.536      0.649       0.38\n",
      "\n",
      "      Epoch    GPU_mem   box_loss   obj_loss   cls_loss  Instances       Size\n",
      "      49/49      3.73G    0.06723    0.02789          0        143        640: 1\n",
      "                 Class     Images  Instances          P          R      mAP50   \n",
      "                   all        342       2156      0.816      0.539      0.645      0.375\n",
      "\n",
      "50 epochs completed in 0.589 hours.\n",
      "Optimizer stripped from runs/train/exp12/weights/last.pt, 14.3MB\n",
      "Optimizer stripped from runs/train/exp12/weights/best.pt, 14.3MB\n",
      "\n",
      "Validating runs/train/exp12/weights/best.pt...\n",
      "Fusing layers... \n",
      "Model summary: 157 layers, 7012822 parameters, 0 gradients, 15.8 GFLOPs\n",
      "                 Class     Images  Instances          P          R      mAP50   \n",
      "                   all        342       2156      0.816      0.538      0.649       0.38\n",
      "Results saved to \u001b[1mruns/train/exp12\u001b[0m\n"
     ]
    }
   ],
   "source": [
    "# Train YOLOv5s on COCO128 for 3 epochs\n",
    "!python train.py --img 640 --batch 16 --epochs 50 --data citypersons.yaml --weights yolov5s.pt --cache"
   ]
  },
  {
   "cell_type": "markdown",
   "metadata": {
    "id": "15glLzbQx5u0"
   },
   "source": [
    "# 4. Visualize"
   ]
  },
  {
   "cell_type": "markdown",
   "metadata": {
    "id": "nWOsI5wJR1o3"
   },
   "source": [
    "## Comet Logging and Visualization 🌟 NEW\n",
    "[Comet](https://bit.ly/yolov5-readme-comet) is now fully integrated with YOLOv5. Track and visualize model metrics in real time, save your hyperparameters, datasets, and model checkpoints, and visualize your model predictions with [Comet Custom Panels](https://bit.ly/yolov5-colab-comet-panels)! Comet makes sure you never lose track of your work and makes it easy to share results and collaborate across teams of all sizes! \n",
    "\n",
    "Getting started is easy:\n",
    "```shell\n",
    "pip install comet_ml  # 1. install\n",
    "export COMET_API_KEY= \"E7VlSJyRQ8LBWcd8CzOUNUl6f\" # 2. paste API key\n",
    "python train.py --img 640 --epochs 3 --data coco128.yaml --weights yolov5s.pt  # 3. train\n",
    "```\n",
    "\n",
    "To learn more about all of the supported Comet features for this integration, check out the [Comet Tutorial](https://github.com/ultralytics/yolov5/tree/master/utils/loggers/comet). If you'd like to learn more about Comet, head over to our [documentation](https://bit.ly/yolov5-colab-comet-docs). Get started by trying out the Comet Colab Notebook:\n",
    "[![Open In Colab](https://colab.research.google.com/assets/colab-badge.svg)](https://colab.research.google.com/drive/1RG0WOQyxlDlo5Km8GogJpIEJlg_5lyYO?usp=sharing)\n",
    "\n",
    "<img width=\"1920\" alt=\"yolo-ui\" src=\"https://user-images.githubusercontent.com/26833433/202851203-164e94e1-2238-46dd-91f8-de020e9d6b41.png\">"
   ]
  },
  {
   "cell_type": "markdown",
   "metadata": {
    "id": "Lay2WsTjNJzP"
   },
   "source": [
    "## ClearML Logging and Automation 🌟 NEW\n",
    "\n",
    "[ClearML](https://cutt.ly/yolov5-notebook-clearml) is completely integrated into YOLOv5 to track your experimentation, manage dataset versions and even remotely execute training runs. To enable ClearML (check cells above):\n",
    "\n",
    "- `pip install clearml`\n",
    "- run `clearml-init` to connect to a ClearML server (**deploy your own [open-source server](https://github.com/allegroai/clearml-server)**, or use our [free hosted server](https://cutt.ly/yolov5-notebook-clearml))\n",
    "\n",
    "You'll get all the great expected features from an experiment manager: live updates, model upload, experiment comparison etc. but ClearML also tracks uncommitted changes and installed packages for example. Thanks to that ClearML Tasks (which is what we call experiments) are also reproducible on different machines! With only 1 extra line, we can schedule a YOLOv5 training task on a queue to be executed by any number of ClearML Agents (workers).\n",
    "\n",
    "You can use ClearML Data to version your dataset and then pass it to YOLOv5 simply using its unique ID. This will help you keep track of your data without adding extra hassle. Explore the [ClearML Tutorial](https://github.com/ultralytics/yolov5/tree/master/utils/loggers/clearml) for details!\n",
    "\n",
    "<a href=\"https://cutt.ly/yolov5-notebook-clearml\">\n",
    "<img alt=\"ClearML Experiment Management UI\" src=\"https://github.com/thepycoder/clearml_screenshots/raw/main/scalars.jpg\" width=\"1280\"/></a>"
   ]
  },
  {
   "cell_type": "markdown",
   "metadata": {
    "id": "-WPvRbS5Swl6"
   },
   "source": [
    "## Local Logging\n",
    "\n",
    "Training results are automatically logged with [Tensorboard](https://www.tensorflow.org/tensorboard) and [CSV](https://github.com/ultralytics/yolov5/pull/4148) loggers to `runs/train`, with a new experiment directory created for each new training as `runs/train/exp2`, `runs/train/exp3`, etc.\n",
    "\n",
    "This directory contains train and val statistics, mosaics, labels, predictions and augmentated mosaics, as well as metrics and charts including precision-recall (PR) curves and confusion matrices. \n",
    "\n",
    "<img alt=\"Local logging results\" src=\"https://user-images.githubusercontent.com/26833433/183222430-e1abd1b7-782c-4cde-b04d-ad52926bf818.jpg\" width=\"1280\"/>\n"
   ]
  },
  {
   "cell_type": "markdown",
   "metadata": {
    "id": "Zelyeqbyt3GD"
   },
   "source": [
    "# Environments\n",
    "\n",
    "YOLOv5 may be run in any of the following up-to-date verified environments (with all dependencies including [CUDA](https://developer.nvidia.com/cuda)/[CUDNN](https://developer.nvidia.com/cudnn), [Python](https://www.python.org/) and [PyTorch](https://pytorch.org/) preinstalled):\n",
    "\n",
    "- **Notebooks** with free GPU: <a href=\"https://bit.ly/yolov5-paperspace-notebook\"><img src=\"https://assets.paperspace.io/img/gradient-badge.svg\" alt=\"Run on Gradient\"></a> <a href=\"https://colab.research.google.com/github/ultralytics/yolov5/blob/master/tutorial.ipynb\"><img src=\"https://colab.research.google.com/assets/colab-badge.svg\" alt=\"Open In Colab\"></a> <a href=\"https://www.kaggle.com/ultralytics/yolov5\"><img src=\"https://kaggle.com/static/images/open-in-kaggle.svg\" alt=\"Open In Kaggle\"></a>\n",
    "- **Google Cloud** Deep Learning VM. See [GCP Quickstart Guide](https://github.com/ultralytics/yolov5/wiki/GCP-Quickstart)\n",
    "- **Amazon** Deep Learning AMI. See [AWS Quickstart Guide](https://github.com/ultralytics/yolov5/wiki/AWS-Quickstart)\n",
    "- **Docker Image**. See [Docker Quickstart Guide](https://github.com/ultralytics/yolov5/wiki/Docker-Quickstart) <a href=\"https://hub.docker.com/r/ultralytics/yolov5\"><img src=\"https://img.shields.io/docker/pulls/ultralytics/yolov5?logo=docker\" alt=\"Docker Pulls\"></a>\n"
   ]
  },
  {
   "cell_type": "markdown",
   "metadata": {
    "id": "6Qu7Iesl0p54"
   },
   "source": [
    "# Status\n",
    "\n",
    "![YOLOv5 CI](https://github.com/ultralytics/yolov5/actions/workflows/ci-testing.yml/badge.svg)\n",
    "\n",
    "If this badge is green, all [YOLOv5 GitHub Actions](https://github.com/ultralytics/yolov5/actions) Continuous Integration (CI) tests are currently passing. CI tests verify correct operation of YOLOv5 training ([train.py](https://github.com/ultralytics/yolov5/blob/master/train.py)), testing ([val.py](https://github.com/ultralytics/yolov5/blob/master/val.py)), inference ([detect.py](https://github.com/ultralytics/yolov5/blob/master/detect.py)) and export ([export.py](https://github.com/ultralytics/yolov5/blob/master/export.py)) on macOS, Windows, and Ubuntu every 24 hours and on every commit.\n"
   ]
  },
  {
   "cell_type": "markdown",
   "metadata": {
    "id": "IEijrePND_2I"
   },
   "source": [
    "# Appendix\n",
    "\n",
    "Additional content below."
   ]
  },
  {
   "cell_type": "code",
   "execution_count": null,
   "metadata": {
    "id": "GMusP4OAxFu6",
    "trusted": true
   },
   "outputs": [],
   "source": [
    "# YOLOv5 PyTorch HUB Inference (DetectionModels only)\n",
    "import torch\n",
    "from models.yolo import Model\n",
    "\n",
    "load_model(\"/kaggle/working/yolov5/runs/train/exp7/weights/best.pt\",Model)\n",
    "im = '/kaggle/input/car-plate-detection/test/images/21343731_jpg.rf.fb5ab50927cba2552b34dbe9ce7d2a21.jpg'  # file, Path, PIL.Image, OpenCV, nparray, list\n",
    "results = model(im)  # inference\n",
    "results.print()  # or .show(), .save(), .crop(), .pandas(), etc.\n",
    "#runs/train/exp6/weights/best.pt\n",
    "#--source /kaggle/working/datasets/Citypersons-9/test/images"
   ]
  },
  {
   "cell_type": "code",
   "execution_count": 40,
   "metadata": {
    "execution": {
     "iopub.execute_input": "2024-04-10T20:57:09.897544Z",
     "iopub.status.busy": "2024-04-10T20:57:09.896529Z",
     "iopub.status.idle": "2024-04-10T20:57:09.906672Z",
     "shell.execute_reply": "2024-04-10T20:57:09.905776Z",
     "shell.execute_reply.started": "2024-04-10T20:57:09.897511Z"
    },
    "trusted": true
   },
   "outputs": [
    {
     "data": {
      "image/jpeg": "[encoded data removed]",
      "text/plain": [
       "<IPython.core.display.Image object>"
      ]
     },
     "execution_count": 40,
     "metadata": {
      "image/jpeg": {
       "width": 600
      }
     },
     "output_type": "execute_result"
    }
   ],
   "source": [
    "#!python detect.py --weights runs/train/exp11/weights/best.pt --img 640 --conf 0.25 --source /kaggle/working/datasets/Citypersons-9/test/images --data data/citypersons.yaml\n",
    "display.Image(filename='/kaggle/working/yolov5/runs/detect/exp21/frankfurt_000001_055709_leftImg8bit_png.rf.f7b02138f89fe8998d50ba9f22e11177.jpg', width=600)"
   ]
  },
  {
   "cell_type": "code",
   "execution_count": null,
   "metadata": {
    "trusted": true
   },
   "outputs": [],
   "source": [
    "import os\n",
    "\n",
    "def load_model(best_model_file,model):\n",
    "        if os.path.exists(best_model_file):\n",
    "            model.load_state_dict(torch.load(best_model_file))\n",
    "            model.eval()\n",
    "            print(f\"Model loaded from {best_model_file}\")\n",
    "        else:\n",
    "            print(\"No model found\")"
   ]
  },
  {
   "cell_type": "code",
   "execution_count": null,
   "metadata": {
    "trusted": true
   },
   "outputs": [],
   "source": [
    "import zipfile\n",
    "import shutil\n",
    "\n",
    "def zip_and_download_directory(directory_to_zip, zip_file_path):\n",
    "    # Create a zip file\n",
    "    with zipfile.ZipFile(zip_file_path, 'w', zipfile.ZIP_DEFLATED) as zipf:\n",
    "        # Walk through the directory and add files to the zip\n",
    "        for root, dirs, files in os.walk(directory_to_zip):\n",
    "            for file in files:\n",
    "                file_path = os.path.join(root, file)\n",
    "                zipf.write(file_path, os.path.relpath(file_path, directory_to_zip))\n",
    "\n",
    "    # Copy the zip file to a downloadable location\n",
    "    shutil.copy(zip_file_path, directory_to_zip)\n",
    "    \n",
    "    print(\"Zip file created and downloaded successfully!\")\n",
    "\n",
    "# Example usage\n",
    "directory_to_zip = '/kaggle/working/yolov5/runs/train/exp7'\n",
    "zip_file_path = '/kaggle/working/exp7.zip'\n",
    "zip_and_download_directory(directory_to_zip, zip_file_path)\n"
   ]
  },
  {
   "cell_type": "code",
   "execution_count": null,
   "metadata": {
    "trusted": true
   },
   "outputs": [],
   "source": [
    "import torch\n",
    "from pathlib import Path\n",
    "from PIL import Image\n",
    "from matplotlib import pyplot as plt\n",
    "from utils.general import non_max_suppression, scale_coords\n",
    "from models.yolo import Model\n",
    "\n",
    "def load_model(weights):\n",
    "    device = torch.device('cuda') if torch.cuda.is_available() else torch.device('cpu')\n",
    "    model = Model(weights, device)\n",
    "    return model\n",
    "\n",
    "def inference(model, img_path):\n",
    "    # Load image\n",
    "    img = Image.open(img_path)\n",
    "    img_tensor = model.preprocess(img)\n",
    "\n",
    "    # Run inference\n",
    "    with torch.no_grad():\n",
    "        detections = model(img_tensor)\n",
    "\n",
    "    # Post-process detections\n",
    "    detections = non_max_suppression(detections, conf_thres=0.5, iou_thres=0.5)\n",
    "\n",
    "    return detections[0] if detections[0] is not None else []\n",
    "\n",
    "def visualize_results(img, detections, save_path=None):\n",
    "    plt.figure(figsize=(10, 10))\n",
    "    plt.imshow(img)\n",
    "    plt.axis('off')\n",
    "\n",
    "    # Plot bounding boxes\n",
    "    for x1, y1, x2, y2, conf, cls_conf, cls_pred in detections:\n",
    "        plt.plot([x1, x2, x2, x1, x1], [y1, y1, y2, y2, y1], color='lime', linewidth=2)\n",
    "\n",
    "    if save_path:\n",
    "        plt.savefig(save_path)\n",
    "    else:\n",
    "        plt.show()\n",
    "\n",
    "# Paths\n",
    "weights_path = 'runs/train/exp7/weights/best.pt'\n",
    "image_path = '/kaggle/input/car-plate-detection/train/images/20457219_jpg.rf.4cf4f21dc04a3f6b5c08407bd1a1a45f.jpg'\n",
    "\n",
    "# Load model\n",
    "model = load_model(weights_path)\n",
    "\n",
    "# Run inference\n",
    "detections = inference(model, image_path)\n",
    "\n",
    "# Visualize results\n",
    "img = Image.open(image_path)\n",
    "visualize_results(img, detections)\n"
   ]
  },
  {
   "cell_type": "code",
   "execution_count": 31,
   "metadata": {
    "execution": {
     "iopub.execute_input": "2024-04-02T16:36:41.457495Z",
     "iopub.status.busy": "2024-04-02T16:36:41.456733Z",
     "iopub.status.idle": "2024-04-02T16:36:41.796557Z",
     "shell.execute_reply": "2024-04-02T16:36:41.795620Z",
     "shell.execute_reply.started": "2024-04-02T16:36:41.457463Z"
    },
    "trusted": true
   },
   "outputs": [
    {
     "name": "stderr",
     "output_type": "stream",
     "text": [
      "\n",
      "                 from  n    params  module                                  arguments                     \n",
      "  0                -1  1      3520  models.common.Conv                      [3, 32, 6, 2, 2]              \n",
      "  1                -1  1     18560  models.common.Conv                      [32, 64, 3, 2]                \n",
      "  2                -1  1     18816  models.common.C3                        [64, 64, 1]                   \n",
      "  3                -1  1     73984  models.common.Conv                      [64, 128, 3, 2]               \n",
      "  4                -1  2    115712  models.common.C3                        [128, 128, 2]                 \n",
      "  5                -1  1    295424  models.common.Conv                      [128, 256, 3, 2]              \n",
      "  6                -1  3    625152  models.common.C3                        [256, 256, 3]                 \n",
      "  7                -1  1   1180672  models.common.Conv                      [256, 512, 3, 2]              \n",
      "  8                -1  1   1182720  models.common.C3                        [512, 512, 1]                 \n",
      "  9                -1  1    656896  models.common.SPPF                      [512, 512, 5]                 \n",
      " 10                -1  1    131584  models.common.Conv                      [512, 256, 1, 1]              \n",
      " 11                -1  1         0  torch.nn.modules.upsampling.Upsample    [None, 2, 'nearest']          \n",
      " 12           [-1, 6]  1         0  models.common.Concat                    [1]                           \n",
      " 13                -1  1    361984  models.common.C3                        [512, 256, 1, False]          \n",
      " 14                -1  1     33024  models.common.Conv                      [256, 128, 1, 1]              \n",
      " 15                -1  1         0  torch.nn.modules.upsampling.Upsample    [None, 2, 'nearest']          \n",
      " 16           [-1, 4]  1         0  models.common.Concat                    [1]                           \n",
      " 17                -1  1     90880  models.common.C3                        [256, 128, 1, False]          \n",
      " 18                -1  1    147712  models.common.Conv                      [128, 128, 3, 2]              \n",
      " 19          [-1, 14]  1         0  models.common.Concat                    [1]                           \n",
      " 20                -1  1    296448  models.common.C3                        [256, 256, 1, False]          \n",
      " 21                -1  1    590336  models.common.Conv                      [256, 256, 3, 2]              \n",
      " 22          [-1, 10]  1         0  models.common.Concat                    [1]                           \n",
      " 23                -1  1   1182720  models.common.C3                        [512, 512, 1, False]          \n",
      " 24      [17, 20, 23]  1     24273  models.yolo.Detect                      [4, [[10, 13, 16, 30, 33, 23], [30, 61, 62, 45, 59, 119], [116, 90, 156, 198, 373, 326]], [128, 256, 512]]\n",
      "Model summary: 214 layers, 7030417 parameters, 7030417 gradients, 16.0 GFLOPs\n",
      "\n"
     ]
    }
   ],
   "source": [
    "import os\n",
    "import torch\n",
    "from models.yolo import Model\n",
    "import yaml\n",
    "\n",
    "# def load_model(weights, model):\n",
    "#     if os.path.exists(best_model_file):\n",
    "#         model.load_state_dict(torch.load(best_model_file))\n",
    "#         model.eval()\n",
    "#         print(f\"Model loaded from {best_model_file}\")\n",
    "#     else:\n",
    "#         print(\"No model found\")\n",
    "\n",
    "device = torch.device('cuda') if torch.cuda.is_available() else torch.device('cpu')      \n",
    "weights = \"/kaggle/working/yolov5/runs/train/exp7/weights/best.pt\"\n",
    "\n",
    "hyp_path = \"data/hyps/hyp.scratch-low.yaml\"\n",
    "\n",
    "if isinstance(hyp_path, str):\n",
    "        with open(hyp_path, errors=\"ignore\") as f:\n",
    "            hyp = yaml.safe_load(f)  # load hyps dict\n",
    "            \n",
    "ckpt = torch.load(weights, map_location=\"cpu\")  # load checkpoint to CPU to avoid CUDA memory leak\n",
    "# Instantiate YOLOv5 Model\n",
    "\n",
    "model = Model(ckpt[\"model\"].yaml,anchors=hyp.get(\"anchors\")).to(device)  # create\n",
    "\n",
    "\n",
    "\n",
    "# or .show(), .save(), .crop(), .pandas(), etc.\n"
   ]
  },
  {
   "cell_type": "code",
   "execution_count": 25,
   "metadata": {
    "execution": {
     "iopub.execute_input": "2024-04-02T16:35:22.703238Z",
     "iopub.status.busy": "2024-04-02T16:35:22.702838Z",
     "iopub.status.idle": "2024-04-02T16:35:22.708189Z",
     "shell.execute_reply": "2024-04-02T16:35:22.707195Z",
     "shell.execute_reply.started": "2024-04-02T16:35:22.703206Z"
    },
    "trusted": true
   },
   "outputs": [],
   "source": [
    "import torch\n",
    "from pathlib import Path\n",
    "from PIL import Image\n",
    "from matplotlib import pyplot as plt\n",
    "from utils.general import non_max_suppression\n",
    "import numpy as np"
   ]
  },
  {
   "cell_type": "code",
   "execution_count": 73,
   "metadata": {
    "execution": {
     "iopub.execute_input": "2024-04-02T17:11:37.313694Z",
     "iopub.status.busy": "2024-04-02T17:11:37.312925Z",
     "iopub.status.idle": "2024-04-02T17:11:37.323965Z",
     "shell.execute_reply": "2024-04-02T17:11:37.322829Z",
     "shell.execute_reply.started": "2024-04-02T17:11:37.313661Z"
    },
    "trusted": true
   },
   "outputs": [],
   "source": [
    "def inference(model, img_path, device):\n",
    "    # Load image\n",
    "    img = Image.open(img_path)\n",
    "\n",
    "    # Define transformations\n",
    "    transform = transforms.Compose([\n",
    "        transforms.Resize((416, 416)),  # Resize to model input size\n",
    "        transforms.ToTensor(),           # Convert to tensor\n",
    "    ])\n",
    "\n",
    "    # Apply transformations\n",
    "    img_tensor = transform(img).unsqueeze(0)  # Add batch dimension\n",
    "\n",
    "    # Move input tensor to the device\n",
    "    img_tensor = img_tensor.to(device)\n",
    "\n",
    "    # Run inference\n",
    "    with torch.no_grad():\n",
    "        detections = model(img_tensor)\n",
    "        \n",
    "    #return detections\n",
    "    #print(detections)\n",
    "    # Post-process detections\n",
    "    #conf_thres=0.5, iou_thres=0.5\n",
    "    detections = non_max_suppression(detections)\n",
    "\n",
    "    return detections[0] if detections[0] is not None else []\n",
    "\n",
    "\n",
    "def visualize_results(img_path, detections, class_names, save_path=None):\n",
    "    img = Image.open(img_path)\n",
    "    plt.figure(figsize=(10, 10))\n",
    "    plt.imshow(img)\n",
    "    plt.axis('off')\n",
    "    \n",
    "    # Define color map for different classes\n",
    "    cmap = plt.get_cmap('tab20b')\n",
    "    colors = [cmap(i) for i in np.linspace(0, 1, len(class_names))]\n",
    "    \n",
    "    # Plot bounding boxes\n",
    "    for x1, y1, x2, y2, conf, cls_conf, cls_pred in detections:\n",
    "        cls_id = int(cls_pred)\n",
    "        color = colors[cls_id]\n",
    "        plt.plot([x1, x2, x2, x1, x1], [y1, y1, y2, y2, y1], color=color, linewidth=2)\n",
    "\n",
    "    if save_path:\n",
    "        plt.savefig(save_path)\n",
    "    else:\n",
    "        plt.show()\n",
    "\n"
   ]
  },
  {
   "cell_type": "code",
   "execution_count": 75,
   "metadata": {
    "execution": {
     "iopub.execute_input": "2024-04-02T17:11:50.523361Z",
     "iopub.status.busy": "2024-04-02T17:11:50.523001Z",
     "iopub.status.idle": "2024-04-02T17:11:50.635285Z",
     "shell.execute_reply": "2024-04-02T17:11:50.634329Z",
     "shell.execute_reply.started": "2024-04-02T17:11:50.523332Z"
    },
    "trusted": true
   },
   "outputs": [
    {
     "name": "stdout",
     "output_type": "stream",
     "text": [
      "tensor([], device='cuda:0', size=(0, 6))\n"
     ]
    }
   ],
   "source": [
    "import torchvision.transforms as transforms\n",
    "from PIL import Image\n",
    "device = torch.device('cuda') if torch.cuda.is_available() else torch.device('cpu')\n",
    "# Perform Inference\n",
    "im = '/kaggle/input/car-plate-detection/test/images/21343731_jpg.rf.fb5ab50927cba2552b34dbe9ce7d2a21.jpg'  # file, Path, PIL.Image, OpenCV, nparray, list\n",
    "class_names=['License_Plate', 'cars', 'motorcyle', 'truck']\n",
    "detections = inference(model,im,device)\n",
    "print(detections)\n",
    "visualize_results(im,detections,class_names)"
   ]
  }
 ],
 "metadata": {
  "kaggle": {
   "accelerator": "gpu",
   "dataSources": [
    {
     "datasetId": 756977,
     "sourceId": 4352009,
     "sourceType": "datasetVersion"
    },
    {
     "datasetId": 4715464,
     "sourceId": 8006423,
     "sourceType": "datasetVersion"
    },
    {
     "datasetId": 4715566,
     "sourceId": 8006564,
     "sourceType": "datasetVersion"
    },
    {
     "datasetId": 4730559,
     "sourceId": 8026720,
     "sourceType": "datasetVersion"
    },
    {
     "datasetId": 4730611,
     "sourceId": 8026795,
     "sourceType": "datasetVersion"
    },
    {
     "datasetId": 4772823,
     "sourceId": 8085489,
     "sourceType": "datasetVersion"
    },
    {
     "datasetId": 4772978,
     "sourceId": 8085685,
     "sourceType": "datasetVersion"
    }
   ],
   "isGpuEnabled": true,
   "isInternetEnabled": true,
   "language": "python",
   "sourceType": "notebook"
  },
  "kernelspec": {
   "display_name": "Python 3",
   "language": "python",
   "name": "python3"
  },
  "language_info": {
   "codemirror_mode": {
    "name": "ipython",
    "version": 3
   },
   "file_extension": ".py",
   "mimetype": "text/x-python",
   "name": "python",
   "nbconvert_exporter": "python",
   "pygments_lexer": "ipython3",
   "version": "3.12.1"
  }
 },
 "nbformat": 4,
 "nbformat_minor": 4
}
